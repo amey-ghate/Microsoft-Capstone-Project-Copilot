{
 "cells": [
  {
   "cell_type": "markdown",
   "metadata": {},
   "source": [
    "# Overall"
   ]
  },
  {
   "cell_type": "markdown",
   "metadata": {},
   "source": [
    "## Data\n",
    "### Downloading\n",
    "### Updating\n",
    "\n",
    "## Table to LLM\n",
    "### Non-RAG\n",
    "#### Single Table\n",
    "##### Raw Table\n",
    "##### Formmated Table\n",
    "##### Summarized Table\n",
    "#### Multiple Tables\n",
    "##### Raw Tables\n",
    "##### Formmated Tables\n",
    "##### Summarized Tables\n",
    "### RAG\n",
    "#### Single Table\n",
    "##### Raw Table\n",
    "##### Formmated Table\n",
    "##### Summarized Table\n",
    "#### Multiple Tables\n",
    "##### Raw Tables\n",
    "##### Formmated Tables\n",
    "##### Summarized Tables\n",
    "\n",
    "## Article to LLM\n",
    "### Non-RAG\n",
    "#### Single Article\n",
    "##### Raw Article\n",
    "##### Formmated Article\n",
    "##### Summarized Article\n",
    "#### Multiple Articles\n",
    "##### Raw Articles\n",
    "##### Formmated Articles\n",
    "##### Summarized Articles\n",
    "### RAG\n",
    "#### Single Article\n",
    "##### Raw Article\n",
    "##### Formmated Article\n",
    "##### Summarized Article\n",
    "#### Multiple Articles\n",
    "##### Raw Articles\n",
    "##### Formmated Articles\n",
    "##### Summarized Articles"
   ]
  },
  {
   "cell_type": "markdown",
   "metadata": {},
   "source": [
    "## Setup"
   ]
  },
  {
   "cell_type": "code",
   "execution_count": 2,
   "metadata": {},
   "outputs": [],
   "source": [
    "import os\n",
    "import re\n",
    "import json\n",
    "import uuid\n",
    "import yaml\n",
    "import tiktoken\n",
    "import requests\n",
    "import pandas as pd\n",
    "from io import StringIO\n",
    "from dotenv import load_dotenv\n",
    "from bs4 import BeautifulSoup\n",
    "import markdown\n",
    "import chromadb\n",
    "from chromadb.config import Settings"
   ]
  },
  {
   "cell_type": "markdown",
   "metadata": {},
   "source": [
    "## Data"
   ]
  },
  {
   "cell_type": "code",
   "execution_count": 5,
   "metadata": {},
   "outputs": [],
   "source": [
    "def fetch_html(url):\n",
    "    try:\n",
    "        response = requests.get(url)\n",
    "        if response.status_code == 200:\n",
    "            return response.text\n",
    "        else:\n",
    "            print(f\"Failed to retrieve HTML. Status code: {response.status_code}\")\n",
    "            return None\n",
    "    except Exception as e:\n",
    "        print(f\"An error occurred: {e}\")\n",
    "        return None"
   ]
  },
  {
   "cell_type": "code",
   "execution_count": 11,
   "metadata": {},
   "outputs": [
    {
     "name": "stdout",
     "output_type": "stream",
     "text": [
      "CSV Data\n",
      "   Index                                                URL  Num of Tables  \\\n",
      "0      1  https://support.microsoft.com/en-us/office/int...              1   \n",
      "1      2  https://support.microsoft.com/en-us/office/for...              1   \n",
      "2      3  https://support.microsoft.com/en-us/office/vid...              1   \n",
      "\n",
      "   Pictures of Tables Dynamic Dropdown Note  \n",
      "0                   0               No    -  \n",
      "1                   0               No    -  \n",
      "2                   0               No    -  \n",
      "\n",
      "All URLs\n",
      "['https://support.microsoft.com/en-us/office/introduction-to-tables-78ff21ea-2f76-4fb0-8af6-c318d1ee0ea7', 'https://support.microsoft.com/en-us/office/format-a-table-e6e77bc6-1f4e-467e-b818-2e2acc488006', 'https://support.microsoft.com/en-us/office/video-get-started-with-table-relationships-728d53ff-f332-4ac6-9382-574ee271500a', 'https://support.microsoft.com/en-us/office/resize-a-table-column-or-row-9340d478-21be-4392-81cf-488f7bbd6715', 'https://support.microsoft.com/en-us/office/using-structured-references-with-excel-tables-f5ed2452-2337-4f71-bed3-c8ae6d2b276e', 'https://support.microsoft.com/en-us/office/how-can-i-merge-two-or-more-tables-c80a9fce-c1ab-4425-bb96-497dd906d656', 'https://support.microsoft.com/en-us/office/create-a-form-that-contains-a-subform-a-one-to-many-form-ddf3822f-8aba-49cb-831a-1e74d6f5f06b', 'https://support.microsoft.com/en-us/office/relationships-between-tables-in-a-data-model-533dc2b6-9288-4363-9538-8ea6e469112b', 'https://support.microsoft.com/en-us/office/xlookup-function-b7fd680e-6d10-43e6-84f9-88eae8bf5929', 'https://support.microsoft.com/en-us/office/introduction-to-what-if-analysis-22bffa5f-e891-4acc-bf7a-e4645c446fb4', 'https://support.microsoft.com/en-us/office/dataverse-system-tables-and-columns-5a6b5528-24d5-451a-ad7b-dc7a52dab470', 'https://support.microsoft.com/en-us/office/calculate-values-in-a-pivottable-11f41417-da80-435c-a5c6-b0185e59da77', 'https://support.microsoft.com/en-us/office/compare-two-tables-in-access-and-find-only-matching-data-16f301ac-40c1-43bc-80db-263f9a51eb4f', 'https://support.microsoft.com/en-us/office/add-records-to-a-table-by-using-an-append-query-98a5bd66-2190-4243-9638-8ef649cf3596', 'https://support.microsoft.com/en-us/office/subtotal-and-total-fields-in-a-pivottable-173f5b30-b546-4293-87d2-aee638f74e7d', 'https://support.microsoft.com/en-us/office/what-is-the-relationships-window-20c66348-854f-47f8-819a-5cce2518ee1d', 'https://support.microsoft.com/en-us/office/use-the-name-manager-in-excel-4d8c4c2b-9f7d-44e3-a3b4-9f61bd5c64e4', 'https://support.microsoft.com/en-us/office/relationships-between-tables-in-a-data-model-533dc2b6-9288-4363-9538-8ea6e469112b']\n"
     ]
    }
   ],
   "source": [
    "# Pull all URLs from file\n",
    "file_df = pd.read_csv(r\"..\\Data\\Other\\html_data.csv\")\n",
    "print(f\"CSV Data\\n{file_df.head(3)}\\n\")\n",
    "\n",
    "all_urls = file_df['URL'].tolist()\n",
    "print(f\"All URLs\\n{all_urls}\")"
   ]
  },
  {
   "cell_type": "code",
   "execution_count": 9,
   "metadata": {},
   "outputs": [
    {
     "name": "stdout",
     "output_type": "stream",
     "text": [
      "HTML content saved to ..\\Data\\HTML\\page_1.html\n",
      "HTML content saved to ..\\Data\\HTML\\page_2.html\n",
      "HTML content saved to ..\\Data\\HTML\\page_3.html\n",
      "HTML content saved to ..\\Data\\HTML\\page_4.html\n",
      "HTML content saved to ..\\Data\\HTML\\page_5.html\n",
      "HTML content saved to ..\\Data\\HTML\\page_6.html\n",
      "HTML content saved to ..\\Data\\HTML\\page_7.html\n",
      "HTML content saved to ..\\Data\\HTML\\page_8.html\n",
      "HTML content saved to ..\\Data\\HTML\\page_9.html\n",
      "HTML content saved to ..\\Data\\HTML\\page_10.html\n",
      "HTML content saved to ..\\Data\\HTML\\page_11.html\n",
      "HTML content saved to ..\\Data\\HTML\\page_12.html\n",
      "HTML content saved to ..\\Data\\HTML\\page_13.html\n",
      "HTML content saved to ..\\Data\\HTML\\page_14.html\n",
      "HTML content saved to ..\\Data\\HTML\\page_15.html\n",
      "HTML content saved to ..\\Data\\HTML\\page_16.html\n",
      "HTML content saved to ..\\Data\\HTML\\page_17.html\n",
      "HTML content saved to ..\\Data\\HTML\\page_18.html\n"
     ]
    }
   ],
   "source": [
    "# Save HTML content from each URL to a file\n",
    "html_output_path = r\"..\\Data\\HTML\"\n",
    "for index, single_url in enumerate(all_urls, start=1):\n",
    "    html_content = fetch_html(single_url)\n",
    "    if html_content:\n",
    "        file_name = f\"page_{index}.html\"\n",
    "        file_path = os.path.join(html_output_path, file_name)\n",
    "        with open(file_path, 'w', encoding='utf-8') as file:\n",
    "            file.write(html_content)\n",
    "        print(f\"HTML content saved to {file_path}\")"
   ]
  },
  {
   "cell_type": "markdown",
   "metadata": {},
   "source": [
    "### Testing"
   ]
  },
  {
   "cell_type": "code",
   "execution_count": 12,
   "metadata": {},
   "outputs": [],
   "source": [
    "# Code to add distractor"
   ]
  },
  {
   "cell_type": "markdown",
   "metadata": {},
   "source": [
    "## Table to LLM"
   ]
  },
  {
   "cell_type": "markdown",
   "metadata": {},
   "source": [
    "### Non-RAG"
   ]
  },
  {
   "cell_type": "markdown",
   "metadata": {},
   "source": [
    "#### Single Table"
   ]
  }
 ],
 "metadata": {
  "kernelspec": {
   "display_name": "env",
   "language": "python",
   "name": "python3"
  },
  "language_info": {
   "codemirror_mode": {
    "name": "ipython",
    "version": 3
   },
   "file_extension": ".py",
   "mimetype": "text/x-python",
   "name": "python",
   "nbconvert_exporter": "python",
   "pygments_lexer": "ipython3",
   "version": "3.11.5"
  }
 },
 "nbformat": 4,
 "nbformat_minor": 2
}
